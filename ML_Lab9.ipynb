{
  "nbformat": 4,
  "nbformat_minor": 0,
  "metadata": {
    "colab": {
      "provenance": [],
      "include_colab_link": true
    },
    "kernelspec": {
      "name": "python3",
      "display_name": "Python 3"
    },
    "language_info": {
      "name": "python"
    }
  },
  "cells": [
    {
      "cell_type": "markdown",
      "metadata": {
        "id": "view-in-github",
        "colab_type": "text"
      },
      "source": [
        "<a href=\"https://colab.research.google.com/github/krishnachaitanyamitnala/ml-labs/blob/main/ML_Lab9.ipynb\" target=\"_parent\"><img src=\"https://colab.research.google.com/assets/colab-badge.svg\" alt=\"Open In Colab\"/></a>"
      ]
    },
    {
      "cell_type": "markdown",
      "source": [
        "**Locally Weighted Regression (LWR):**\n",
        "LWR is a non-parametric method that adapts the model locally to the data points, assigning different weights to different points based on their proximity to the target point. In this blog post, we’ll delve into the intricacies of Locally Weighted Regression, understand its mechanics, and explore its application"
      ],
      "metadata": {
        "id": "s6FYePy9snN-"
      }
    },
    {
      "cell_type": "markdown",
      "source": [
        "**Locally Weighted Regression (LWR)** is a type of regression analysis used when the data exhibit heteroscedasticity, meaning the variance around the regression line is not constant. Unlike traditional regression methods that globally fit a function to all data points, LWR fits a separate regression model for each query point, with the model’s parameters dependent on that query point."
      ],
      "metadata": {
        "id": "YUxbtLmItXiN"
      }
    },
    {
      "cell_type": "markdown",
      "source": [
        "![image.png](data:image/png;base64,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)"
      ],
      "metadata": {
        "id": "uVfGtSvJtdHz"
      }
    },
    {
      "cell_type": "markdown",
      "source": [
        "**Steps involved in locally weighted linear regression are:**\n",
        "\n",
        "\n",
        "Compute      to minimize the cost.\n",
        "![image.png](data:image/png;base64,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)\n",
        "\n"
      ],
      "metadata": {
        "id": "vGwpzO9vtv7A"
      }
    },
    {
      "cell_type": "markdown",
      "source": [
        "\n",
        "Predict Output: for given query point x,![image.png](data:image/png;base64,iVBORw0KGgoAAAANSUhEUgAAAE8AAAANCAYAAADopDPhAAADR0lEQVRYCe2XWaiOYRDHf/Y9+xZlyU7WpJA9a5J9F0K4EC4s2fc1FMpOKBciChe4caHsd8hSlBtbuHQj5p95z5nv7XP4js5JHVNfz8w8M88yz8x/3g9KLjUD7tn11wOHgNfObwFultyw/NnNpwMV3HQmsDe4zQj8fxYY4AGa6tFoHaJyChgT5FaBL1K2L9CiSHf4+8WVZcqsUsBFoGpqSZVs7ZSuWMRbQK9i2alwmzQFXoUSPQr0D0s1AF4GudjYssBnQOO/SoeBneFwF4AJQZ4GqGwLTUrp40BN4ABwEKgXVhMGbATWAqNcv9JSfT/w1mR1rM6un+9rRf85Ya1NwGmgFrDDO10bn99tEHDWLlsZmAesAVYF32zsOKBRtgmgCvAV6Bbmn1uXHe5yeeAYMDvMp9l2gO6qs9YHlgDbDQaqy7C74UBHu/wl4IwZVQI+uV7zIzyt1dpFW33UsDgl6yJdrES2AZPdTn4qG1FdD76CdMNx5i4wCdAD9fYsOGkBbu4+1wPvqozhATAxQ5MvjLQH+GZYt8FUemAlwHd7MJWqHkhdVnqdu22+Wx5XA9hjfqWBBcBtD9oHQFjPYDd9HLKniesErCrLIZ4p2iRmgsB3aN5WP+0kPgJaul4HTMpCWFPOHuYqMNbntZcOl5xDwewR1nwIdAhyLqwqRUmRkM7/JBH+YBwYGokSRd+AIiVBHinCiqa6UaSewHsPkA4yK9jIVhlaLToAKsH7QSfMkV+kj4D2TFNF30/BFOmQX4AyLuc6CIKWByfB0Yog58KeD+We4TfasSZDaeUqML2cVrqs8lRWiFTq+omECcKHhJ4ZrjQ2LK3jik6e/sl8HAcBV4JCWKng66EK8ymh4CXwofO9yPLYYbsC2XfBt2G01Cbp7NB8V+BaMNQlBJ7KtrmWPft8bpiXnkThi+ZEKsk3ziflvdQySU0jGwlPV4cJvbYgQ1gonMpGKsVfNYxFgL7xRMusuamZ5UJKBJ1bcXjqjqqKhXGROw7YUZfwuoCM9YLnAAVKpCZzwmV1oYQEvAJ5HXqzZ9l4oL0baA0FJBupifQLE0csW/SPoE/QpdmCGobKfhcwxSsi7fs7WVWg/RV0VYAqY13SaX8AQYOAp9EIF40AAAAASUVORK5CYII=)"
      ],
      "metadata": {
        "id": "Ipm2vkXfuKmM"
      }
    },
    {
      "cell_type": "markdown",
      "source": [
        "### **9.Implement the non-parametric Locally Weighted Regression algorithm in order to fit datapoints. Select appropriate data set for your experiment and draw graphs.**"
      ],
      "metadata": {
        "id": "0o8r_pEJpDFu"
      }
    },
    {
      "cell_type": "code",
      "source": [
        "# Import necessary libraries\n",
        "import pandas as pd\n",
        "import numpy as np\n",
        "import matplotlib.pyplot as plt\n",
        "import seaborn as sns\n",
        "from scipy.stats import pearsonr\n",
        "\n",
        "# Load data points\n",
        "data = pd.read_csv('/content/Lab9.csv')\n",
        "\n",
        "# If you want to print a specific number of rows (e.g., the first 10 rows)\n",
        "print(data.head(10))\n",
        "\n",
        "print(\"\\n\" * 2)\n",
        "\n",
        "# Basic EDA\n",
        "print(\"Basic Statistics:\")\n",
        "print(data.describe())\n",
        "\n",
        "# Visualize distributions of total_bill and tip\n",
        "plt.figure(figsize=(14, 6))\n",
        "\n",
        "# Histogram for total_bill\n",
        "plt.subplot(1, 2, 1)\n",
        "sns.histplot(data['total_bill'], bins=20, kde=True, color='blue')\n",
        "plt.title('Distribution of Total Bill')\n",
        "plt.xlabel('Total Bill')\n",
        "plt.ylabel('Frequency')\n",
        "\n",
        "# Histogram for tip\n",
        "plt.subplot(1, 2, 2)\n",
        "sns.histplot(data['tip'], bins=20, kde=True, color='green')\n",
        "plt.title('Distribution of Tips')\n",
        "plt.xlabel('Tip')\n",
        "plt.ylabel('Frequency')\n",
        "\n",
        "plt.tight_layout()\n",
        "plt.show()\n",
        "\n"
      ],
      "metadata": {
        "id": "s-Bd8-lBpXLH",
        "colab": {
          "base_uri": "https://localhost:8080/",
          "height": 373
        },
        "outputId": "c825320e-211c-4244-da2c-8eb8841f5aad"
      },
      "execution_count": 1,
      "outputs": [
        {
          "output_type": "error",
          "ename": "FileNotFoundError",
          "evalue": "[Errno 2] No such file or directory: '/content/Lab9.csv'",
          "traceback": [
            "\u001b[0;31m---------------------------------------------------------------------------\u001b[0m",
            "\u001b[0;31mFileNotFoundError\u001b[0m                         Traceback (most recent call last)",
            "\u001b[0;32m<ipython-input-1-74e5a07e105a>\u001b[0m in \u001b[0;36m<cell line: 9>\u001b[0;34m()\u001b[0m\n\u001b[1;32m      7\u001b[0m \u001b[0;34m\u001b[0m\u001b[0m\n\u001b[1;32m      8\u001b[0m \u001b[0;31m# Load data points\u001b[0m\u001b[0;34m\u001b[0m\u001b[0;34m\u001b[0m\u001b[0m\n\u001b[0;32m----> 9\u001b[0;31m \u001b[0mdata\u001b[0m \u001b[0;34m=\u001b[0m \u001b[0mpd\u001b[0m\u001b[0;34m.\u001b[0m\u001b[0mread_csv\u001b[0m\u001b[0;34m(\u001b[0m\u001b[0;34m'/content/Lab9.csv'\u001b[0m\u001b[0;34m)\u001b[0m\u001b[0;34m\u001b[0m\u001b[0;34m\u001b[0m\u001b[0m\n\u001b[0m\u001b[1;32m     10\u001b[0m \u001b[0;34m\u001b[0m\u001b[0m\n\u001b[1;32m     11\u001b[0m \u001b[0;31m# If you want to print a specific number of rows (e.g., the first 10 rows)\u001b[0m\u001b[0;34m\u001b[0m\u001b[0;34m\u001b[0m\u001b[0m\n",
            "\u001b[0;32m/usr/local/lib/python3.10/dist-packages/pandas/io/parsers/readers.py\u001b[0m in \u001b[0;36mread_csv\u001b[0;34m(filepath_or_buffer, sep, delimiter, header, names, index_col, usecols, dtype, engine, converters, true_values, false_values, skipinitialspace, skiprows, skipfooter, nrows, na_values, keep_default_na, na_filter, verbose, skip_blank_lines, parse_dates, infer_datetime_format, keep_date_col, date_parser, date_format, dayfirst, cache_dates, iterator, chunksize, compression, thousands, decimal, lineterminator, quotechar, quoting, doublequote, escapechar, comment, encoding, encoding_errors, dialect, on_bad_lines, delim_whitespace, low_memory, memory_map, float_precision, storage_options, dtype_backend)\u001b[0m\n\u001b[1;32m   1024\u001b[0m     \u001b[0mkwds\u001b[0m\u001b[0;34m.\u001b[0m\u001b[0mupdate\u001b[0m\u001b[0;34m(\u001b[0m\u001b[0mkwds_defaults\u001b[0m\u001b[0;34m)\u001b[0m\u001b[0;34m\u001b[0m\u001b[0;34m\u001b[0m\u001b[0m\n\u001b[1;32m   1025\u001b[0m \u001b[0;34m\u001b[0m\u001b[0m\n\u001b[0;32m-> 1026\u001b[0;31m     \u001b[0;32mreturn\u001b[0m \u001b[0m_read\u001b[0m\u001b[0;34m(\u001b[0m\u001b[0mfilepath_or_buffer\u001b[0m\u001b[0;34m,\u001b[0m \u001b[0mkwds\u001b[0m\u001b[0;34m)\u001b[0m\u001b[0;34m\u001b[0m\u001b[0;34m\u001b[0m\u001b[0m\n\u001b[0m\u001b[1;32m   1027\u001b[0m \u001b[0;34m\u001b[0m\u001b[0m\n\u001b[1;32m   1028\u001b[0m \u001b[0;34m\u001b[0m\u001b[0m\n",
            "\u001b[0;32m/usr/local/lib/python3.10/dist-packages/pandas/io/parsers/readers.py\u001b[0m in \u001b[0;36m_read\u001b[0;34m(filepath_or_buffer, kwds)\u001b[0m\n\u001b[1;32m    618\u001b[0m \u001b[0;34m\u001b[0m\u001b[0m\n\u001b[1;32m    619\u001b[0m     \u001b[0;31m# Create the parser.\u001b[0m\u001b[0;34m\u001b[0m\u001b[0;34m\u001b[0m\u001b[0m\n\u001b[0;32m--> 620\u001b[0;31m     \u001b[0mparser\u001b[0m \u001b[0;34m=\u001b[0m \u001b[0mTextFileReader\u001b[0m\u001b[0;34m(\u001b[0m\u001b[0mfilepath_or_buffer\u001b[0m\u001b[0;34m,\u001b[0m \u001b[0;34m**\u001b[0m\u001b[0mkwds\u001b[0m\u001b[0;34m)\u001b[0m\u001b[0;34m\u001b[0m\u001b[0;34m\u001b[0m\u001b[0m\n\u001b[0m\u001b[1;32m    621\u001b[0m \u001b[0;34m\u001b[0m\u001b[0m\n\u001b[1;32m    622\u001b[0m     \u001b[0;32mif\u001b[0m \u001b[0mchunksize\u001b[0m \u001b[0;32mor\u001b[0m \u001b[0miterator\u001b[0m\u001b[0;34m:\u001b[0m\u001b[0;34m\u001b[0m\u001b[0;34m\u001b[0m\u001b[0m\n",
            "\u001b[0;32m/usr/local/lib/python3.10/dist-packages/pandas/io/parsers/readers.py\u001b[0m in \u001b[0;36m__init__\u001b[0;34m(self, f, engine, **kwds)\u001b[0m\n\u001b[1;32m   1618\u001b[0m \u001b[0;34m\u001b[0m\u001b[0m\n\u001b[1;32m   1619\u001b[0m         \u001b[0mself\u001b[0m\u001b[0;34m.\u001b[0m\u001b[0mhandles\u001b[0m\u001b[0;34m:\u001b[0m \u001b[0mIOHandles\u001b[0m \u001b[0;34m|\u001b[0m \u001b[0;32mNone\u001b[0m \u001b[0;34m=\u001b[0m \u001b[0;32mNone\u001b[0m\u001b[0;34m\u001b[0m\u001b[0;34m\u001b[0m\u001b[0m\n\u001b[0;32m-> 1620\u001b[0;31m         \u001b[0mself\u001b[0m\u001b[0;34m.\u001b[0m\u001b[0m_engine\u001b[0m \u001b[0;34m=\u001b[0m \u001b[0mself\u001b[0m\u001b[0;34m.\u001b[0m\u001b[0m_make_engine\u001b[0m\u001b[0;34m(\u001b[0m\u001b[0mf\u001b[0m\u001b[0;34m,\u001b[0m \u001b[0mself\u001b[0m\u001b[0;34m.\u001b[0m\u001b[0mengine\u001b[0m\u001b[0;34m)\u001b[0m\u001b[0;34m\u001b[0m\u001b[0;34m\u001b[0m\u001b[0m\n\u001b[0m\u001b[1;32m   1621\u001b[0m \u001b[0;34m\u001b[0m\u001b[0m\n\u001b[1;32m   1622\u001b[0m     \u001b[0;32mdef\u001b[0m \u001b[0mclose\u001b[0m\u001b[0;34m(\u001b[0m\u001b[0mself\u001b[0m\u001b[0;34m)\u001b[0m \u001b[0;34m->\u001b[0m \u001b[0;32mNone\u001b[0m\u001b[0;34m:\u001b[0m\u001b[0;34m\u001b[0m\u001b[0;34m\u001b[0m\u001b[0m\n",
            "\u001b[0;32m/usr/local/lib/python3.10/dist-packages/pandas/io/parsers/readers.py\u001b[0m in \u001b[0;36m_make_engine\u001b[0;34m(self, f, engine)\u001b[0m\n\u001b[1;32m   1878\u001b[0m                 \u001b[0;32mif\u001b[0m \u001b[0;34m\"b\"\u001b[0m \u001b[0;32mnot\u001b[0m \u001b[0;32min\u001b[0m \u001b[0mmode\u001b[0m\u001b[0;34m:\u001b[0m\u001b[0;34m\u001b[0m\u001b[0;34m\u001b[0m\u001b[0m\n\u001b[1;32m   1879\u001b[0m                     \u001b[0mmode\u001b[0m \u001b[0;34m+=\u001b[0m \u001b[0;34m\"b\"\u001b[0m\u001b[0;34m\u001b[0m\u001b[0;34m\u001b[0m\u001b[0m\n\u001b[0;32m-> 1880\u001b[0;31m             self.handles = get_handle(\n\u001b[0m\u001b[1;32m   1881\u001b[0m                 \u001b[0mf\u001b[0m\u001b[0;34m,\u001b[0m\u001b[0;34m\u001b[0m\u001b[0;34m\u001b[0m\u001b[0m\n\u001b[1;32m   1882\u001b[0m                 \u001b[0mmode\u001b[0m\u001b[0;34m,\u001b[0m\u001b[0;34m\u001b[0m\u001b[0;34m\u001b[0m\u001b[0m\n",
            "\u001b[0;32m/usr/local/lib/python3.10/dist-packages/pandas/io/common.py\u001b[0m in \u001b[0;36mget_handle\u001b[0;34m(path_or_buf, mode, encoding, compression, memory_map, is_text, errors, storage_options)\u001b[0m\n\u001b[1;32m    871\u001b[0m         \u001b[0;32mif\u001b[0m \u001b[0mioargs\u001b[0m\u001b[0;34m.\u001b[0m\u001b[0mencoding\u001b[0m \u001b[0;32mand\u001b[0m \u001b[0;34m\"b\"\u001b[0m \u001b[0;32mnot\u001b[0m \u001b[0;32min\u001b[0m \u001b[0mioargs\u001b[0m\u001b[0;34m.\u001b[0m\u001b[0mmode\u001b[0m\u001b[0;34m:\u001b[0m\u001b[0;34m\u001b[0m\u001b[0;34m\u001b[0m\u001b[0m\n\u001b[1;32m    872\u001b[0m             \u001b[0;31m# Encoding\u001b[0m\u001b[0;34m\u001b[0m\u001b[0;34m\u001b[0m\u001b[0m\n\u001b[0;32m--> 873\u001b[0;31m             handle = open(\n\u001b[0m\u001b[1;32m    874\u001b[0m                 \u001b[0mhandle\u001b[0m\u001b[0;34m,\u001b[0m\u001b[0;34m\u001b[0m\u001b[0;34m\u001b[0m\u001b[0m\n\u001b[1;32m    875\u001b[0m                 \u001b[0mioargs\u001b[0m\u001b[0;34m.\u001b[0m\u001b[0mmode\u001b[0m\u001b[0;34m,\u001b[0m\u001b[0;34m\u001b[0m\u001b[0;34m\u001b[0m\u001b[0m\n",
            "\u001b[0;31mFileNotFoundError\u001b[0m: [Errno 2] No such file or directory: '/content/Lab9.csv'"
          ]
        }
      ]
    },
    {
      "cell_type": "code",
      "source": [
        "# Kernel function for weighting the points based on distance\n",
        "def kernel(point, xmat, k):\n",
        "    m, n = np.shape(xmat)\n",
        "    weights = np.mat(np.eye(m))\n",
        "    for j in range(m):\n",
        "        diff = point - xmat[j]\n",
        "        weights[j, j] = np.exp(diff * diff.T / (-2.0 * k ** 2))\n",
        "    return weights\n",
        "\n",
        "# Function for calculating local weight\n",
        "def localWeight(point, xmat, ymat, k):\n",
        "    wei = kernel(point, xmat, k)\n",
        "    XTWX = xmat.T @ (wei @ xmat)\n",
        "\n",
        "    # Add regularization to prevent singular matrix error\n",
        "    regularization = 1e-5 * np.eye(XTWX.shape[0])\n",
        "\n",
        "    W = np.linalg.pinv(XTWX + regularization) @ (xmat.T @ (wei @ ymat.T))\n",
        "    return W\n",
        "\n",
        "# Locally weighted regression function\n",
        "def localWeightRegression(xmat, ymat, k):\n",
        "    m, n = np.shape(xmat)\n",
        "    ypred = np.zeros(m)\n",
        "    for i in range(m):\n",
        "        ypred[i] = xmat[i] @ localWeight(xmat[i], xmat, ymat, k)\n",
        "    return ypred\n",
        "\n",
        "# Preparing data and adding a column of ones to the bill (for bias term)\n",
        "bill = np.array(data.total_bill)\n",
        "tip = np.array(data.tip)\n",
        "mbill = np.mat(bill)\n",
        "mtip = np.mat(tip)  # Convert to 2-dimensional array\n",
        "m = np.shape(mbill)[1]\n",
        "\n",
        "# Add a column of ones to the feature matrix\n",
        "one = np.mat(np.ones(m))\n",
        "X = np.hstack((one.T, mbill.T))  # Stack ones and bill to create X matrix\n",
        "\n",
        "# Set the bandwidth parameter k\n",
        "ypred = localWeightRegression(X, mtip, 0.3)\n",
        "\n",
        "# Sort values for plotting\n",
        "SortIndex = X[:, 1].argsort(0)\n",
        "xsort = X[SortIndex][:, 0]\n",
        "\n",
        "# Calculate accuracy metrics\n",
        "def mean_absolute_error(y_true, y_pred):\n",
        "    return np.mean(np.abs(y_true - y_pred))\n",
        "\n",
        "def r_squared(y_true, y_pred):\n",
        "    ss_total = np.sum((y_true - np.mean(y_true)) ** 2)\n",
        "    ss_residual = np.sum((y_true - y_pred) ** 2)\n",
        "    return 1 - (ss_residual / ss_total)\n",
        "\n",
        "mae = mean_absolute_error(tip, ypred)\n",
        "r2 = r_squared(tip, ypred)\n",
        "\n",
        "# Display accuracy metrics\n",
        "print(f\"Mean Absolute Error (MAE): {mae:.4f}\")\n",
        "print(f\"R-squared (R²): {r2:.4f}\")\n",
        "\n",
        "# Plot the data points and the locally weighted regression curve\n",
        "fig = plt.figure(figsize=(10, 6))  # Increase the figure size for better visibility\n",
        "ax = fig.add_subplot(1, 1, 1)\n",
        "\n",
        "# Change scatter plot style\n",
        "ax.scatter(bill, tip, color='orange', edgecolor='black', s=80, marker='o', label='Data Points')\n",
        "\n",
        "# Change line style for regression curve\n",
        "ax.plot(xsort[:, 1], ypred[SortIndex], color='red', linewidth=2, linestyle='--', label='Locally Weighted Regression')\n",
        "\n",
        "# Add grid for better readability\n",
        "ax.grid(True)\n",
        "\n",
        "# Add title and legend\n",
        "plt.title('Locally Weighted Regression')\n",
        "plt.xlabel('Total Bill')\n",
        "plt.ylabel('Tips')\n",
        "plt.legend()\n",
        "plt.tight_layout()  # Adjust layout to make room for labels\n",
        "plt.show()"
      ],
      "metadata": {
        "id": "S6isKq-HpXOD"
      },
      "execution_count": null,
      "outputs": []
    }
  ]
}